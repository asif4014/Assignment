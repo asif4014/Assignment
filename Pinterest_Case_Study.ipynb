{
 "cells": [
  {
   "cell_type": "markdown",
   "metadata": {},
   "source": [
    "## Case Study on Pinterest Recommendation System\n"
   ]
  },
  {
   "cell_type": "markdown",
   "metadata": {},
   "source": [
    "Pinterest is using “Pixie” as its advanced graph-based recommendation system. As Pinterest grows to more than 250 million people, they are constantly scaling the number of Pins saved and matching them to people with overlapping interests, serving more than 10 billion recommendations every day. So to make this process as efficient as possible, they have built Pixie. Pixie is a flexible, graph-based system for making personalized recommendations in real-time. \n",
    "\n",
    "They start with the Pinterest object graph (the graph between Pins and boards). The dataset is highly unique as it’s created from how people describe and organize Pins and boards, and it results in countless Pins that have been added hundreds of thousands of times. From this dataset, they got to know two valuable things: how those Pins are organized based on the context people add as they save and the Pinner’s interests. The challenge then becomes making personalized recommendations for each of those hundreds of millions of users, in milliseconds, from a set of billions of Pins.\n",
    "\n",
    "One of the biggest challenges of this recommendation problem is figuring out how to narrow down the best Pin for the best person at the best time. This is where the graph-based recommender system comes in: they know a set of nodes that are already interesting to a Pinner, so they start graph traversal from there. Pixie then finds the Pins most relevant to the user by applying a random walk algorithm for 100,000 steps. At each step, it selects a random neighbor and visits the node, incrementing node visit counts as it visits more random neighbors. It also have a probability Alpha, set at 0.5, to restart at node Q so their walks do not stray too far. They continue randomly sampling the neighboring boards and nodes for 100,000 steps.\n",
    "\n",
    "Once the random walks are complete, they know the nodes which have been visited most frequently are the ones most closely related to the query node. Pixie continuously repeats this process in real-time as the data grows, so their users are always able to keep narrowing down their searches and find the exact ideas they’re looking for to pursue their goal.\n",
    "\n",
    "For this type of recommendation, content-based recommendation method is best suitable because this method tries to recommend items to users based on their profile. The user's profile revolves around that user's preferences and tastes. It is shaped based on user ratings, including the number of times that user has clicked on different items or perhaps even liked those items. Like in this case, user has pinned on different items."
   ]
  }
 ],
 "metadata": {
  "kernelspec": {
   "display_name": "Python 3",
   "language": "python",
   "name": "python3"
  },
  "language_info": {
   "codemirror_mode": {
    "name": "ipython",
    "version": 3
   },
   "file_extension": ".py",
   "mimetype": "text/x-python",
   "name": "python",
   "nbconvert_exporter": "python",
   "pygments_lexer": "ipython3",
   "version": "3.6.9"
  }
 },
 "nbformat": 4,
 "nbformat_minor": 4
}
